{
 "cells": [
  {
   "cell_type": "code",
   "execution_count": 1,
   "metadata": {},
   "outputs": [
    {
     "name": "stderr",
     "output_type": "stream",
     "text": [
      "c:\\Users\\ask26\\anaconda3\\envs\\LangChainEnv\\Lib\\site-packages\\tqdm\\auto.py:21: TqdmWarning: IProgress not found. Please update jupyter and ipywidgets. See https://ipywidgets.readthedocs.io/en/stable/user_install.html\n",
      "  from .autonotebook import tqdm as notebook_tqdm\n"
     ]
    },
    {
     "name": "stdout",
     "output_type": "stream",
     "text": [
      "LangSmith 추적을 시작합니다.\n",
      "[프로젝트명]\n",
      "Ophtimus-Web\n"
     ]
    }
   ],
   "source": [
    "from langchain_openai import ChatOpenAI\n",
    "from langchain_core.prompts import PromptTemplate\n",
    "from transformers import AutoTokenizer\n",
    "import os\n",
    "\n",
    "from dotenv import load_dotenv\n",
    "load_dotenv()\n",
    "\n",
    "from langchain_teddynote import logging\n",
    "logging.langsmith(\"Ophtimus-Web\")"
   ]
  },
  {
   "cell_type": "code",
   "execution_count": 2,
   "metadata": {},
   "outputs": [],
   "source": [
    "template = \"\"\"<|begin_of_text|><|start_header_id|>system<|end_header_id|>\n",
    "\n",
    "Cutting Knowledge Date: December 2023\n",
    "Today Date: 26 Jul 2024\n",
    "\n",
    "You are an expert ophthalmologist. Please provide accurate and medically sound answers to the user's ophthalmology-related question.<|eot_id|><|start_header_id|>user<|end_header_id|>\n",
    "\n",
    "{instruct}<|eot_id|><|start_header_id|>assistant<|end_header_id|>\"\"\""
   ]
  },
  {
   "cell_type": "code",
   "execution_count": 3,
   "metadata": {},
   "outputs": [],
   "source": [
    "prompt = PromptTemplate(\n",
    "    template=template,\n",
    "    input_variables=[\"instruct\"],\n",
    "    verify_ssl_certs=False  # SSL 인증서 검증 비활성화\n",
    ")"
   ]
  },
  {
   "cell_type": "code",
   "execution_count": 5,
   "metadata": {},
   "outputs": [],
   "source": [
    "chat_llm = ChatOpenAI(\n",
    "    model=\"gpt-4o\",\n",
    "    temperature=0.01,\n",
    ")"
   ]
  },
  {
   "cell_type": "code",
   "execution_count": 6,
   "metadata": {},
   "outputs": [],
   "source": [
    "chain = prompt | chat_llm"
   ]
  },
  {
   "cell_type": "code",
   "execution_count": 7,
   "metadata": {},
   "outputs": [
    {
     "name": "stdout",
     "output_type": "stream",
     "text": [
      "눈 건강에 좋은 음식은 여러 가지가 있지만, 그 중에서도 특히 도움이 되는 세 가지를 소개하겠습니다.\n",
      "\n",
      "1. **당근**: 당근에는 비타민 A의 전구체인 베타카로틴이 풍부하게 들어 있습니다. 비타민 A는 시력을 유지하고 야맹증을 예방하는 데 중요한 역할을 합니다.\n",
      "\n",
      "2. **시금치와 케일**: 이 녹색 잎채소들은 루테인과 제아잔틴이라는 항산화제를 많이 함유하고 있습니다. 이 성분들은 눈의 망막을 보호하고, 황반변성의 위험을 줄이는 데 도움이 됩니다.\n",
      "\n",
      "3. **연어**: 연어와 같은 기름진 생선에는 오메가-3 지방산이 풍부합니다. 오메가-3는 눈의 건조함을 줄이고, 망막의 건강을 유지하는 데 중요한 역할을 합니다.\n",
      "\n",
      "이 외에도 다양한 과일과 채소, 견과류, 씨앗류 등이 눈 건강에 도움이 될 수 있습니다. 균형 잡힌 식단을 유지하는 것이 중요합니다.\n"
     ]
    }
   ],
   "source": [
    "response = chain.invoke(\"눈에 좋은 음식 3가지를 말씀해주세요.\")\n",
    "print(response.content)"
   ]
  },
  {
   "cell_type": "code",
   "execution_count": 8,
   "metadata": {},
   "outputs": [],
   "source": [
    "from transformers import AutoTokenizer\n",
    "repo_id = \"meta-llama/Llama-3.1-8B-Instruct\"\n",
    "tokenizer  = AutoTokenizer.from_pretrained(repo_id)"
   ]
  },
  {
   "cell_type": "code",
   "execution_count": 13,
   "metadata": {},
   "outputs": [],
   "source": [
    "chat = [\n",
    "    {\"role\": \"system\", \"content\": \"You are an expert ophthalmologist. Please provide accurate and medically sound answers to the user's ophthalmology-related question.\"},\n",
    "    {\"role\": \"user\",   \"content\": \"{instruct}\"},\n",
    "]\n",
    "\n",
    "\n",
    "prompt_ = tokenizer.apply_chat_template(\n",
    "    chat,\n",
    "    tokenize=False,          # 문자열로 받기\n",
    "    add_generation_prompt=True\n",
    ")"
   ]
  },
  {
   "cell_type": "code",
   "execution_count": 14,
   "metadata": {},
   "outputs": [],
   "source": [
    "prompt = PromptTemplate.from_template(prompt_)"
   ]
  },
  {
   "cell_type": "code",
   "execution_count": 15,
   "metadata": {},
   "outputs": [
    {
     "data": {
      "text/plain": [
       "PromptTemplate(input_variables=['instruct'], input_types={}, partial_variables={}, template=\"<|begin_of_text|><|start_header_id|>system<|end_header_id|>\\n\\nCutting Knowledge Date: December 2023\\nToday Date: 26 Jul 2024\\n\\nYou are an expert ophthalmologist. Please provide accurate and medically sound answers to the user's ophthalmology-related question.<|eot_id|><|start_header_id|>user<|end_header_id|>\\n\\n{instruct}<|eot_id|><|start_header_id|>assistant<|end_header_id|>\\n\\n\")"
      ]
     },
     "execution_count": 15,
     "metadata": {},
     "output_type": "execute_result"
    }
   ],
   "source": [
    "prompt"
   ]
  },
  {
   "cell_type": "code",
   "execution_count": 16,
   "metadata": {},
   "outputs": [
    {
     "name": "stdout",
     "output_type": "stream",
     "text": [
      "눈 건강에 좋은 음식은 여러 가지가 있지만, 그 중에서도 특히 도움이 되는 세 가지를 소개하겠습니다.\n",
      "\n",
      "1. **당근**: 당근에는 비타민 A의 전구체인 베타카로틴이 풍부하게 들어 있습니다. 비타민 A는 눈의 망막 건강을 유지하고 야맹증을 예방하는 데 중요한 역할을 합니다.\n",
      "\n",
      "2. **시금치와 케일**: 이 녹색 잎채소들은 루테인과 제아잔틴이라는 항산화제를 많이 함유하고 있습니다. 이 성분들은 눈의 황반을 보호하고, 나이 관련 황반변성(AMD)과 백내장 같은 질환의 위험을 줄이는 데 도움이 됩니다.\n",
      "\n",
      "3. **생선**: 특히 연어, 고등어, 참치 같은 기름진 생선에는 오메가-3 지방산이 풍부합니다. 오메가-3는 눈의 건조함을 줄이고, 망막의 건강을 유지하며, 나이 관련 황반변성의 위험을 낮추는 데 기여합니다.\n",
      "\n",
      "이 외에도 다양한 과일과 채소, 견과류, 씨앗류 등이 눈 건강에 도움이 될 수 있습니다. 균형 잡힌 식단을 유지하는 것이 중요합니다.\n"
     ]
    }
   ],
   "source": [
    "chain = prompt | chat_llm\n",
    "response = chain.invoke(\"눈에 좋은 음식 3가지를 말씀해주세요.\")\n",
    "print(response.content)"
   ]
  }
 ],
 "metadata": {
  "kernelspec": {
   "display_name": "LangChainEnv",
   "language": "python",
   "name": "python3"
  },
  "language_info": {
   "codemirror_mode": {
    "name": "ipython",
    "version": 3
   },
   "file_extension": ".py",
   "mimetype": "text/x-python",
   "name": "python",
   "nbconvert_exporter": "python",
   "pygments_lexer": "ipython3",
   "version": "3.11.11"
  }
 },
 "nbformat": 4,
 "nbformat_minor": 2
}
